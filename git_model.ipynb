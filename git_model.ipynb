{
 "cells": [
  {
   "cell_type": "code",
   "execution_count": null,
   "metadata": {},
   "outputs": [],
   "source": [
    "import pandas as pd\n",
    "import pyreadr  #pip install pyreadr -q -- apply this if pyreadr is not giving Error\n",
    "import matplotlib.pyplot as plt\n",
    "import numpy as np\n",
    "import time\n",
    "import sys\n",
    "from numpy import array\n",
    "from numpy.linalg import pinv\n",
    "from sklearn.preprocessing import MinMaxScaler\n",
    "from sklearn import linear_model\n",
    "from sklearn.metrics import r2_score"
   ]
  },
  {
   "cell_type": "code",
   "execution_count": null,
   "metadata": {},
   "outputs": [],
   "source": [
    "result = pyreadr.read_r(r\"C:\\Users\\alivi\\Desktop\\Ali Vijdaan\\Jupyter Notebooks\\ES-205 Project\\movies.RData\") # Read .rdata file\n",
    "# Extract the dataframe from the result\n",
    "df = result[\"movies\"]  # Assuming the dataframe is the first object in the RData file\n",
    "\n",
    "# Convert the dataframe to a CSV file\n",
    "csv_file_path = r\"C:\\Users\\alivi\\Desktop\\Ali Vijdaan\\Jupyter Notebooks\\ES-205 Project\\movies.csv\"\n",
    "df.to_csv(csv_file_path, index=False)  # Save as CSV without the index\n",
    "\n",
    "# Display the first few rows of the CSV file\n",
    "df = pd.read_csv(csv_file_path)\n",
    "df.head()"
   ]
  },
  {
   "cell_type": "code",
   "execution_count": null,
   "metadata": {},
   "outputs": [],
   "source": [
    "df.head()"
   ]
  },
  {
   "cell_type": "code",
   "execution_count": null,
   "metadata": {},
   "outputs": [],
   "source": [
    "#Showing data with Selected Colomns\n",
    "selected_columns = ['title', 'mpaa_rating','genre', 'critics_score', 'audience_score']\n",
    "s_df = df[selected_columns] #s_df indicates selected dataframe\n",
    "s_df.head(15)"
   ]
  },
  {
   "cell_type": "code",
   "execution_count": null,
   "metadata": {},
   "outputs": [],
   "source": [
    "x = s_df['audience_score']\n",
    "y = s_df['critics_score']\n",
    "\n",
    "plt.figure(figsize=(10, 5)) #(width, height)\n",
    "\n",
    "plt.scatter(x, y)\n",
    "\n",
    "plt.title('Scatter Plot of Critic Score vs Audience Score')\n",
    "plt.xlabel('Audience Score')\n",
    "plt.ylabel('Critic Score')\n",
    "\n",
    "plt.show()"
   ]
  },
  {
   "cell_type": "markdown",
   "metadata": {},
   "source": [
    "Gradient Descent"
   ]
  },
  {
   "cell_type": "code",
   "execution_count": null,
   "metadata": {},
   "outputs": [],
   "source": [
    "def gradient_descent(x, y):\n",
    "  \n",
    "  m_curr = 0    #Initialzing our predictions for gradeint\n",
    "  b_curr = 0    #Initialzing our predictions for y-intercept\n",
    "  iterations = 1000\n",
    "  n = len(x)\n",
    "  learning_rate = 0.000001\n",
    "\n",
    "  res_m = []\n",
    "  res_b = []\n",
    "  res_mse = []\n",
    "\n",
    "  for i in range(iterations):\n",
    "    y_hat = m_curr * x + b_curr  #Equation for line of predicted values\n",
    "\n",
    "    mse = (1/n) * sum((y - y_hat)**2)\n",
    "    res_mse.append(mse)\n",
    "\n",
    "    Dm = (-2/n) * sum(x*(y - y_hat))  #Partial Derivative wrt m\n",
    "    Db = (-2/n) * sum(y - y_hat)  #Partial Derivative wrt y-intercept\n",
    "\n",
    "    #Updating m and y-intercept\n",
    "    m_curr = m_curr - (learning_rate * Dm)\n",
    "    res_m.append(m_curr)\n",
    "    b_curr = b_curr - (learning_rate * Db)\n",
    "    res_b.append(b_curr)\n",
    "  \n",
    "  #Printing Results\n",
    "  print(f\"Gradient: {m_curr}\")\n",
    "  print(f\"Intercepts: {b_curr}\")\n",
    "  print(f\"Mean Squared Error: {mse}\")\n",
    "\n",
    "\n",
    "  return res_m, res_b, res_mse, m_curr, b_curr"
   ]
  },
  {
   "cell_type": "code",
   "execution_count": null,
   "metadata": {},
   "outputs": [],
   "source": [
    "m, c, mse, grad, y_int = gradient_descent(x, y)"
   ]
  },
  {
   "cell_type": "code",
   "execution_count": null,
   "metadata": {},
   "outputs": [],
   "source": [
    "plt.scatter(c, mse, s = 10)\n",
    "\n",
    "plt.title('MSE vs Intercept')\n",
    "plt.xlabel('Intercept')\n",
    "plt.ylabel('MSE')\n",
    "\n",
    "plt.show()"
   ]
  },
  {
   "cell_type": "code",
   "execution_count": null,
   "metadata": {},
   "outputs": [],
   "source": [
    "plt.scatter(m, mse, s = 10)\n",
    "\n",
    "plt.title('MSE vs Gradients')\n",
    "plt.xlabel('Gradients')\n",
    "plt.ylabel('MSE')\n",
    "\n",
    "\n",
    "plt.show()"
   ]
  },
  {
   "cell_type": "code",
   "execution_count": null,
   "metadata": {},
   "outputs": [],
   "source": [
    "y_hat = grad * x + y_int\n",
    "\n",
    "plt.figure(figsize=(10, 5)) #(width, height)\n",
    "plt.scatter(x, y)\n",
    "plt.plot(x, y_hat, color = 'red')\n",
    "\n",
    "plt.title(\"Linear Regression using Gradient Descent\")\n",
    "plt.xlabel('Audience Scores')\n",
    "plt.ylabel('Critics Score')\n",
    "\n",
    "plt.show()"
   ]
  },
  {
   "cell_type": "code",
   "execution_count": null,
   "metadata": {},
   "outputs": [],
   "source": [
    "\n",
    "obs_val = 407.4918887787872\n",
    "tru_val = 477.1002705961618\n",
    "\n",
    "acc = 100 - abs((((obs_val - tru_val) / tru_val) * 100))\n",
    "print(f\"Accuracy = {acc}%\")"
   ]
  }
 ],
 "metadata": {
  "language_info": {
   "name": "python"
  }
 },
 "nbformat": 4,
 "nbformat_minor": 2
}
